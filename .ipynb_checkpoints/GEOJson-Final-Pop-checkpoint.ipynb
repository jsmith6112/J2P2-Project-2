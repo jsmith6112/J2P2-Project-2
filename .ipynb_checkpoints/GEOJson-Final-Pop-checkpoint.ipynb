{
 "cells": [
  {
   "cell_type": "code",
   "execution_count": 1,
   "metadata": {},
   "outputs": [],
   "source": [
    "#!pip3 install pymysql"
   ]
  },
  {
   "cell_type": "code",
   "execution_count": 2,
   "metadata": {},
   "outputs": [],
   "source": [
    "import json\n",
    "import pandas as pd\n",
    "import pymysql\n",
    "from sqlalchemy import func, create_engine\n",
    "\n",
    "from config import remote_db_endpoint, remote_db_port, remote_db_user, remote_db_pwd, remote_db_name\n",
    "\n",
    "pymysql.install_as_MySQLdb()"
   ]
  },
  {
   "cell_type": "code",
   "execution_count": 3,
   "metadata": {},
   "outputs": [],
   "source": [
    "with open('us-states.json') as json_file:\n",
    "    json_data = json.load(json_file)"
   ]
  },
  {
   "cell_type": "code",
   "execution_count": 4,
   "metadata": {},
   "outputs": [],
   "source": [
    "#json_data"
   ]
  },
  {
   "cell_type": "code",
   "execution_count": 5,
   "metadata": {},
   "outputs": [],
   "source": [
    "engine = create_engine(f\"mysql://{remote_db_user}:{remote_db_pwd}@{remote_db_endpoint}/{remote_db_name}\")\n",
    "conn = engine.connect()"
   ]
  },
  {
   "cell_type": "code",
   "execution_count": 6,
   "metadata": {},
   "outputs": [],
   "source": [
    "# Query for GDP data\n",
    "\n",
    "query = '''\n",
    "    SELECT \n",
    "        STATE_FULL_NAME,\n",
    "        SUM(Populations) as Total_Populations,\n",
    "        STATE\n",
    "    FROM `state-population-final`\n",
    "    GROUP BY STATE_FULL_NAME\n",
    "''' \n",
    "\n",
    "df = pd.read_sql(query, conn)\n",
    "\n",
    "# Close connecttion everytime after did the query   \n",
    "#conn.close()"
   ]
  },
  {
   "cell_type": "code",
   "execution_count": 7,
   "metadata": {},
   "outputs": [
    {
     "data": {
      "text/html": [
       "<div>\n",
       "<style scoped>\n",
       "    .dataframe tbody tr th:only-of-type {\n",
       "        vertical-align: middle;\n",
       "    }\n",
       "\n",
       "    .dataframe tbody tr th {\n",
       "        vertical-align: top;\n",
       "    }\n",
       "\n",
       "    .dataframe thead th {\n",
       "        text-align: right;\n",
       "    }\n",
       "</style>\n",
       "<table border=\"1\" class=\"dataframe\">\n",
       "  <thead>\n",
       "    <tr style=\"text-align: right;\">\n",
       "      <th></th>\n",
       "      <th>STATE_FULL_NAME</th>\n",
       "      <th>Total_Populations</th>\n",
       "      <th>STATE</th>\n",
       "    </tr>\n",
       "  </thead>\n",
       "  <tbody>\n",
       "    <tr>\n",
       "      <th>0</th>\n",
       "      <td>Alabama</td>\n",
       "      <td>36.0</td>\n",
       "      <td>AL</td>\n",
       "    </tr>\n",
       "    <tr>\n",
       "      <th>1</th>\n",
       "      <td>Arizona</td>\n",
       "      <td>57.0</td>\n",
       "      <td>AZ</td>\n",
       "    </tr>\n",
       "    <tr>\n",
       "      <th>2</th>\n",
       "      <td>Arkansas</td>\n",
       "      <td>21.0</td>\n",
       "      <td>AR</td>\n",
       "    </tr>\n",
       "    <tr>\n",
       "      <th>3</th>\n",
       "      <td>California</td>\n",
       "      <td>344.0</td>\n",
       "      <td>CA</td>\n",
       "    </tr>\n",
       "    <tr>\n",
       "      <th>4</th>\n",
       "      <td>Colorado</td>\n",
       "      <td>45.0</td>\n",
       "      <td>CO</td>\n",
       "    </tr>\n",
       "    <tr>\n",
       "      <th>5</th>\n",
       "      <td>Connecticut</td>\n",
       "      <td>27.0</td>\n",
       "      <td>CT</td>\n",
       "    </tr>\n",
       "    <tr>\n",
       "      <th>6</th>\n",
       "      <td>Delaware</td>\n",
       "      <td>8460.0</td>\n",
       "      <td>DE</td>\n",
       "    </tr>\n",
       "    <tr>\n",
       "      <th>7</th>\n",
       "      <td>Florida</td>\n",
       "      <td>178.0</td>\n",
       "      <td>FL</td>\n",
       "    </tr>\n",
       "    <tr>\n",
       "      <th>8</th>\n",
       "      <td>Georgia</td>\n",
       "      <td>87.0</td>\n",
       "      <td>GA</td>\n",
       "    </tr>\n",
       "    <tr>\n",
       "      <th>9</th>\n",
       "      <td>Idaho</td>\n",
       "      <td>9.0</td>\n",
       "      <td>ID</td>\n",
       "    </tr>\n",
       "  </tbody>\n",
       "</table>\n",
       "</div>"
      ],
      "text/plain": [
       "  STATE_FULL_NAME  Total_Populations STATE\n",
       "0         Alabama               36.0    AL\n",
       "1         Arizona               57.0    AZ\n",
       "2        Arkansas               21.0    AR\n",
       "3      California              344.0    CA\n",
       "4        Colorado               45.0    CO\n",
       "5     Connecticut               27.0    CT\n",
       "6        Delaware             8460.0    DE\n",
       "7         Florida              178.0    FL\n",
       "8         Georgia               87.0    GA\n",
       "9           Idaho                9.0    ID"
      ]
     },
     "execution_count": 7,
     "metadata": {},
     "output_type": "execute_result"
    }
   ],
   "source": [
    "df.head(10)"
   ]
  },
  {
   "cell_type": "code",
   "execution_count": 8,
   "metadata": {},
   "outputs": [],
   "source": [
    "# state_xref = pd.read_csv('states.csv')\n",
    "# state_xref"
   ]
  },
  {
   "cell_type": "code",
   "execution_count": 9,
   "metadata": {},
   "outputs": [],
   "source": [
    "# loan_data_xref = pd.merge(loan_data, state_xref, left_on='BorrState', right_on='Abbrev')"
   ]
  },
  {
   "cell_type": "code",
   "execution_count": 10,
   "metadata": {},
   "outputs": [],
   "source": [
    "# loan_data_xref"
   ]
  },
  {
   "cell_type": "code",
   "execution_count": 12,
   "metadata": {},
   "outputs": [
    {
     "data": {
      "text/plain": [
       "0       36.0\n",
       "1       57.0\n",
       "2       21.0\n",
       "3      344.0\n",
       "4       45.0\n",
       "5       27.0\n",
       "6     8460.0\n",
       "7      178.0\n",
       "8       87.0\n",
       "9        9.0\n",
       "10     108.0\n",
       "11      54.0\n",
       "12      27.0\n",
       "13      18.0\n",
       "14      36.0\n",
       "15      36.0\n",
       "16       9.0\n",
       "17      49.0\n",
       "18      54.0\n",
       "19      81.0\n",
       "20      45.0\n",
       "21      18.0\n",
       "22      54.0\n",
       "23    1005.0\n",
       "24       9.0\n",
       "25      20.0\n",
       "26       9.0\n",
       "27      72.0\n",
       "28      18.0\n",
       "29     171.0\n",
       "30      86.0\n",
       "31    6627.0\n",
       "32      99.0\n",
       "33      27.0\n",
       "34      32.0\n",
       "35     108.0\n",
       "36       9.0\n",
       "37      39.0\n",
       "38    7696.0\n",
       "39      54.0\n",
       "40     241.0\n",
       "41      22.0\n",
       "42    5623.0\n",
       "43      72.0\n",
       "44      60.0\n",
       "45       9.0\n",
       "46      45.0\n",
       "47    5209.0\n",
       "Name: Total_Populations, dtype: float64"
      ]
     },
     "execution_count": 12,
     "metadata": {},
     "output_type": "execute_result"
    }
   ],
   "source": [
    "pd.to_numeric(df['Total_Populations'])"
   ]
  },
  {
   "cell_type": "code",
   "execution_count": null,
   "metadata": {},
   "outputs": [],
   "source": [
    "pop_dict = df[['STATE_FULL_NAME','Total_Populations']].to_dict(orient='records')"
   ]
  },
  {
   "cell_type": "code",
   "execution_count": null,
   "metadata": {},
   "outputs": [],
   "source": [
    "#json_data\n",
    "#loan_dict\n",
    "\n",
    "json_data['features'][0]['properties'].keys()"
   ]
  },
  {
   "cell_type": "code",
   "execution_count": null,
   "metadata": {},
   "outputs": [],
   "source": [
    "for i in range(len(json_data['features'])):\n",
    "    for j in range(len(pop_dict)):\n",
    "        if(json_data['features'][i]['properties']['name'] == pop_dict[j]['STATE_FULL_NAME']):\n",
    "            json_data['features'][i]['properties']['total_populations'] = pop_dict[j]['Total_Populations']"
   ]
  },
  {
   "cell_type": "code",
   "execution_count": null,
   "metadata": {},
   "outputs": [],
   "source": [
    "json_data"
   ]
  },
  {
   "cell_type": "code",
   "execution_count": null,
   "metadata": {},
   "outputs": [],
   "source": [
    "with open('state_population.json', 'w') as json_file:\n",
    "    json.dump(json_data, json_file)"
   ]
  },
  {
   "cell_type": "code",
   "execution_count": null,
   "metadata": {},
   "outputs": [],
   "source": []
  },
  {
   "cell_type": "code",
   "execution_count": null,
   "metadata": {},
   "outputs": [],
   "source": []
  }
 ],
 "metadata": {
  "kernelspec": {
   "display_name": "tensorflow-dev",
   "language": "python",
   "name": "tensorflow-dev"
  },
  "language_info": {
   "codemirror_mode": {
    "name": "ipython",
    "version": 3
   },
   "file_extension": ".py",
   "mimetype": "text/x-python",
   "name": "python",
   "nbconvert_exporter": "python",
   "pygments_lexer": "ipython3",
   "version": "3.8.3"
  }
 },
 "nbformat": 4,
 "nbformat_minor": 4
}
